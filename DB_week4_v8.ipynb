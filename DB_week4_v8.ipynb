{
 "cells": [
  {
   "cell_type": "code",
   "execution_count": 31,
   "id": "4a97101f",
   "metadata": {},
   "outputs": [],
   "source": [
    "import pandas as pd"
   ]
  },
  {
   "cell_type": "code",
   "execution_count": 32,
   "id": "e21ad35d",
   "metadata": {},
   "outputs": [],
   "source": [
    "df=pd.read_csv(\"postings.csv\")"
   ]
  },
  {
   "cell_type": "code",
   "execution_count": 33,
   "id": "0f0f0b9f",
   "metadata": {},
   "outputs": [],
   "source": [
    "# df.head(3)"
   ]
  },
  {
   "cell_type": "code",
   "execution_count": 34,
   "id": "d194b1ae",
   "metadata": {},
   "outputs": [],
   "source": [
    "# INITIAL CLEANING\n",
    "\n",
    "# Change format of column names for easier manipulation\n",
    "df.columns = [col.strip().replace(\" \",\"_\").lower() for col in df.columns]\n",
    "# Remove columns that are not relevant to the data analysis\n",
    "df.drop([\"job_location\",'job_link',\"first_seen\",\"search_city\"], axis=1, inplace = True)\n",
    "# Rename Columns\n",
    "df=df.rename(columns={\"search_country\":\"country\", \"job_type\": \"regime\"})\n",
    "# Strip cell values\n",
    "df=df.map(lambda x: x.strip() if isinstance(x, str) else x)\n",
    "# df.head(3)"
   ]
  },
  {
   "cell_type": "code",
   "execution_count": 35,
   "id": "027bf9c9",
   "metadata": {},
   "outputs": [],
   "source": [
    "# SKILLS SERIES\n",
    "\n",
    "# filling null values on job skills\n",
    "df[\"job_skills\"].fillna(\"non specified\", inplace = True)\n",
    "\n",
    "# Change cells in job_skills\n",
    "df[\"job_skills\"]=df[\"job_skills\"].map(lambda x: x.split(\", \") if isinstance(x, str) else x)\n",
    "# df"
   ]
  },
  {
   "cell_type": "code",
   "execution_count": 36,
   "id": "7339dcb2",
   "metadata": {},
   "outputs": [],
   "source": [
    "# CREATE DATAFRAME (SQL TABLE) FOR THE UNIQUE \"SKILLS\" VALUES\n",
    "\n",
    "# STEP 1: Create a set for the unique values of skills\n",
    "skills_list = []\n",
    "[skills_list.append(index)for item in df[\"job_skills\"] for index in item]\n",
    "  \n",
    "skills_set = set(skills_list)\n",
    "skills_set = sorted(skills_set)\n",
    "# len(skills_set)\n",
    "\n",
    "# STEP 2: Transforming a set into a pandas series\n",
    "skills_series = pd.Series(skills_set, name = \"skills\")\n",
    "skills_series\n",
    "\n",
    "# STEP 3: Converting the pandas skills series to a pandas dataframe\n",
    "skills_df = pd.DataFrame(skills_series).reset_index()\n",
    "skills_df.rename(columns={\"index\":\"skill_id\", \"skills\": \"skill_name\"}, inplace = True)\n",
    "# skills_df"
   ]
  },
  {
   "cell_type": "code",
   "execution_count": 37,
   "id": "b6bdfefc",
   "metadata": {},
   "outputs": [],
   "source": [
    "# Export CSV\n",
    "skills_df.to_csv(\"skills_df.csv\",index = False)"
   ]
  },
  {
   "cell_type": "code",
   "execution_count": 38,
   "id": "076fb732",
   "metadata": {},
   "outputs": [],
   "source": [
    "# CREATE A DATAFRAME (SQL TABLE) FOR THE \"JOB TITLE\"\n",
    "job_title_df = df[\"job_title\"].reset_index()\n",
    "job_title_df.rename(columns={\"index\":\"job_title_id\", \"job_title\": \"job_title_name\"}, inplace = True)\n",
    "# job_title_df"
   ]
  },
  {
   "cell_type": "code",
   "execution_count": 39,
   "id": "2a07b505",
   "metadata": {},
   "outputs": [],
   "source": [
    "# Export CSV\n",
    "job_title_df.to_csv(\"job_title.csv\",index=False)"
   ]
  },
  {
   "cell_type": "code",
   "execution_count": 40,
   "id": "bffce154",
   "metadata": {},
   "outputs": [],
   "source": [
    "# CREATE CONNECTOR DATAFRAME (SQL TABLE) BETWEEN \"JOB TITLE\" AND \"SKILLS\"\n",
    "\n",
    "connector_df = pd.DataFrame()\n",
    "row = 0\n",
    "for item in df[\"job_skills\"]:\n",
    "    for index in item:     \n",
    "        for skill in skills_df[\"skill_name\"]:\n",
    "            if skill == index:\n",
    "                temp_dict = {\"job_title\":job_title_df[\"job_title_id\"][row], \"skill\": skills_df[\"skill_id\"][skills_df[\"skill_name\"]==skill].index[0]}\n",
    "                connector_df=connector_df._append(temp_dict, ignore_index= True)\n",
    "    row +=1\n",
    "\n",
    "# connector_df"
   ]
  },
  {
   "cell_type": "code",
   "execution_count": 41,
   "id": "62b3e21a",
   "metadata": {},
   "outputs": [],
   "source": [
    "# Reset index and renaming column\n",
    "connector_df = connector_df.reset_index()\n",
    "connector_df.rename(columns={\"index\":\"connected_id\"}, inplace = True)"
   ]
  },
  {
   "cell_type": "code",
   "execution_count": 42,
   "id": "99444d46",
   "metadata": {},
   "outputs": [],
   "source": [
    "# connector_df"
   ]
  },
  {
   "cell_type": "code",
   "execution_count": 43,
   "id": "b6338423",
   "metadata": {},
   "outputs": [],
   "source": [
    "# Export CSV\n",
    "connector_df.to_csv(\"connector_df.csv\",index=False)"
   ]
  },
  {
   "cell_type": "code",
   "execution_count": 47,
   "id": "c2dfe8e7",
   "metadata": {},
   "outputs": [],
   "source": [
    "# Create a new DataFrame data_branches\n",
    "data_branches = pd.DataFrame()\n",
    "\n",
    "# Define a function to map job titles to branch names\n",
    "def map_branch(job_title):\n",
    "    if 'analyst' in job_title.lower():\n",
    "        return 'Analyst'\n",
    "    elif 'engineer' in job_title.lower():\n",
    "        return 'Engineer'\n",
    "    elif 'scientist' in job_title.lower():\n",
    "        return 'Scientist'\n",
    "    elif 'intelligence' in job_title.lower():\n",
    "        return 'Intelligence'\n",
    "    else:\n",
    "        return 'Other'\n",
    "\n",
    "# Apply the function to create the 'branch_name' column in data_branches\n",
    "data_branches['branch_name'] = df['job_title'].apply(map_branch)\n",
    "\n",
    "# Reset the index and rename the former index column to 'branch_id'\n",
    "data_branches.reset_index(inplace=True)\n",
    "data_branches.rename(columns={'index': 'branch_id'}, inplace=True)\n",
    "\n",
    "# Display the resulting DataFrame\n",
    "# print(data_branches)\n",
    "# data_branches[\"branch_name\"].value_counts()"
   ]
  },
  {
   "cell_type": "code",
   "execution_count": 46,
   "id": "71285301",
   "metadata": {},
   "outputs": [],
   "source": [
    "# ADDING COLUMNS ID'S TO \"JOB TITLE DF\" TO MAKE THE CONNECTIONS WITH TABLES\n",
    "# Branch\n",
    "# This was done when the data_branches was still with 6025 rows, for the other tables is below\n",
    "branch_id_column =[]\n",
    "for item in df[\"data_branches\"]:  \n",
    "    for name in data_branches[\"branch_name\"]:\n",
    "        if name == item:\n",
    "            item = int(data_branches.index[data_branches[\"branch_name\"]==name].tolist()[0])\n",
    "            branch_id_column.append(item)\n",
    "# branch_id_column"
   ]
  },
  {
   "cell_type": "code",
   "execution_count": 71,
   "id": "7d577b20",
   "metadata": {},
   "outputs": [],
   "source": [
    "df[\"data_branches\"]=data_branches[\"branch_name\"]"
   ]
  },
  {
   "cell_type": "code",
   "execution_count": 73,
   "id": "f197ba18",
   "metadata": {},
   "outputs": [],
   "source": [
    "# data_branches"
   ]
  },
  {
   "cell_type": "code",
   "execution_count": 74,
   "id": "ba5a7353",
   "metadata": {},
   "outputs": [],
   "source": [
    "data_branches=data_branches.groupby('branch_name').agg({\"branch_id\":\"count\"})\n",
    "# data_branches"
   ]
  },
  {
   "cell_type": "code",
   "execution_count": 75,
   "id": "25665d27",
   "metadata": {},
   "outputs": [],
   "source": [
    "data_branches=data_branches.reset_index()"
   ]
  },
  {
   "cell_type": "code",
   "execution_count": 76,
   "id": "ea307de1",
   "metadata": {},
   "outputs": [],
   "source": [
    "data_branches.drop('branch_id', axis=1, inplace=True)"
   ]
  },
  {
   "cell_type": "code",
   "execution_count": 77,
   "id": "880e6ca2",
   "metadata": {},
   "outputs": [],
   "source": [
    "data_branches = data_branches.reset_index()"
   ]
  },
  {
   "cell_type": "code",
   "execution_count": 78,
   "id": "37aad09f",
   "metadata": {},
   "outputs": [],
   "source": [
    "data_branches.rename(columns={'index':'branch_id'}, inplace=True)"
   ]
  },
  {
   "cell_type": "code",
   "execution_count": 80,
   "id": "cbfdf634",
   "metadata": {},
   "outputs": [],
   "source": [
    "# data_branches"
   ]
  },
  {
   "cell_type": "code",
   "execution_count": 22,
   "id": "0d4339e3",
   "metadata": {},
   "outputs": [],
   "source": [
    "data_branches.to_csv(\"data_branches.csv\",index=False)"
   ]
  },
  {
   "cell_type": "code",
   "execution_count": 86,
   "id": "9c6f41fa",
   "metadata": {},
   "outputs": [],
   "source": [
    "# CREATE COUNTRY DATAFRAME (SQL TABLE)\n",
    "country = pd.Series(df[\"country\"].unique())\n",
    "country = country.reset_index()\n",
    "country.columns = [\"country_id\", \"country_name\"]\n",
    "# country"
   ]
  },
  {
   "cell_type": "code",
   "execution_count": 87,
   "id": "fe7fbbac",
   "metadata": {},
   "outputs": [
    {
     "name": "stderr",
     "output_type": "stream",
     "text": [
      "C:\\Users\\ruijr\\AppData\\Local\\Temp\\ipykernel_10376\\843491569.py:15: SettingWithCopyWarning: \n",
      "A value is trying to be set on a copy of a slice from a DataFrame.\n",
      "Try using .loc[row_indexer,col_indexer] = value instead\n",
      "\n",
      "See the caveats in the documentation: https://pandas.pydata.org/pandas-docs/stable/user_guide/indexing.html#returning-a-view-versus-a-copy\n",
      "  company[\"country_id\"] = company[\"country_name\"].apply(convert_cid)\n"
     ]
    }
   ],
   "source": [
    "# CREATE COMPANY DATAFRAME (SQL TABLE)\n",
    "company = df[[\"company\", \"country\"]]\n",
    "company.columns = [\"company_name\", \"country_name\"]\n",
    "company[\"country_name\"]\n",
    "def convert_cid(country_name):\n",
    "    if country_name == \"United States\":\n",
    "        return 0\n",
    "    elif country_name == \"Australia\":\n",
    "        return 1\n",
    "    elif country_name == \"United Kingdom\":\n",
    "        return 2\n",
    "    else:\n",
    "        return 3\n",
    "        \n",
    "company[\"country_id\"] = company[\"country_name\"].apply(convert_cid)\n",
    "del company[\"country_name\"]\n",
    "company = company.reset_index()\n",
    "company = company.rename(columns = {\"index\": \"company_id\"})\n",
    "# company"
   ]
  },
  {
   "cell_type": "code",
   "execution_count": 88,
   "id": "4ae6191a",
   "metadata": {},
   "outputs": [],
   "source": [
    "# CREATE JOB LEVEL DATAFRAME (SQL TABLE)\n",
    "experience = pd.Series(df[\"job_level\"].unique())\n",
    "experience = experience.reset_index()\n",
    "experience.columns = [\"job_level_id\", \"job_level_name\"]\n",
    "# experience"
   ]
  },
  {
   "cell_type": "code",
   "execution_count": 89,
   "id": "6f5d5e11",
   "metadata": {},
   "outputs": [],
   "source": [
    "# CREATE REGIME DATAFRAME (SQL TABLE)\n",
    "regime = pd.Series(df[\"regime\"].unique())\n",
    "regime = regime.reset_index()\n",
    "regime.columns = [\"regime_id\", \"regime_name\"]\n",
    "# regime"
   ]
  },
  {
   "cell_type": "code",
   "execution_count": 90,
   "id": "c2b3b227",
   "metadata": {},
   "outputs": [],
   "source": [
    "# EXPORT CSV'S\n",
    "# country.to_csv(\"country.csv\", index = False)\n",
    "# company.to_csv(\"company.csv\", index = False)\n",
    "# experience.to_csv(\"experience.csv\", index = False)\n",
    "# regime.to_csv(\"regime.csv\", index = False)"
   ]
  },
  {
   "cell_type": "code",
   "execution_count": 91,
   "id": "dd9f685e",
   "metadata": {},
   "outputs": [],
   "source": [
    "# ADDING COLUMNS ID'S TO \"JOB TITLE DF\" TO MAKE THE CONNECTIONS WITH TABLES\n",
    "# PART 1/2 - Creating the columns\n",
    "# Create a function with the name of the column to not repeat the following code !!!"
   ]
  },
  {
   "cell_type": "code",
   "execution_count": 92,
   "id": "ea05ccde",
   "metadata": {},
   "outputs": [],
   "source": [
    "# Company\n",
    "company_id_column =[]\n",
    "for item in df[\"company\"]:  \n",
    "    for name in company[\"company_name\"]:\n",
    "        if name == item:\n",
    "            item = int(company.index[company[\"company_name\"]==name].tolist()[0])\n",
    "            company_id_column.append(item)\n",
    "# company_id_column"
   ]
  },
  {
   "cell_type": "code",
   "execution_count": 93,
   "id": "ac89a04c",
   "metadata": {},
   "outputs": [],
   "source": [
    "# Country\n",
    "country_id_column =[]\n",
    "for item in df[\"country\"]:  \n",
    "    for name in country[\"country_name\"]:\n",
    "        if name == item:\n",
    "            item = int(country.index[country[\"country_name\"]==name].tolist()[0])\n",
    "            country_id_column.append(item)\n",
    "# country_id_column"
   ]
  },
  {
   "cell_type": "code",
   "execution_count": 94,
   "id": "f00fca7f",
   "metadata": {},
   "outputs": [],
   "source": [
    "# Job_Level\n",
    "job_level_id_column =[]\n",
    "for item in df[\"job_level\"]:  \n",
    "    for name in experience[\"job_level_name\"]:\n",
    "        if name == item:\n",
    "            item = int(experience.index[experience[\"job_level_name\"]==name].tolist()[0])\n",
    "            job_level_id_column.append(item)\n",
    "# job_level_id_column"
   ]
  },
  {
   "cell_type": "code",
   "execution_count": 95,
   "id": "b01ba3f3",
   "metadata": {},
   "outputs": [],
   "source": [
    "# Regime\n",
    "regime_id_column =[]\n",
    "for item in df[\"regime\"]:  \n",
    "    for name in regime[\"regime_name\"]:\n",
    "        if name == item:\n",
    "            item = int(regime.index[regime[\"regime_name\"]==name].tolist()[0])\n",
    "            regime_id_column.append(item)\n",
    "# regime_id_column"
   ]
  },
  {
   "cell_type": "code",
   "execution_count": null,
   "id": "c627d7ce",
   "metadata": {},
   "outputs": [],
   "source": [
    "# Branches\n",
    "# Was already done above"
   ]
  },
  {
   "cell_type": "code",
   "execution_count": null,
   "id": "8b00cec4",
   "metadata": {},
   "outputs": [],
   "source": [
    "# ADDING COLUMNS ID'S TO \"JOB TITLE DF\" TO MAKE THE CONNECTIONS WITH TABLES\n",
    "# PART 2/2 - Adding each company to the job_title_df "
   ]
  },
  {
   "cell_type": "code",
   "execution_count": 96,
   "id": "4bd71cfe",
   "metadata": {},
   "outputs": [],
   "source": [
    "# job_title_df"
   ]
  },
  {
   "cell_type": "code",
   "execution_count": 97,
   "id": "4dc7674a",
   "metadata": {},
   "outputs": [],
   "source": [
    "job_title_df[\"company_id\"]=company_id_column"
   ]
  },
  {
   "cell_type": "code",
   "execution_count": 98,
   "id": "80f7e1d7",
   "metadata": {},
   "outputs": [],
   "source": [
    "job_title_df[\"country_id\"]=country_id_column"
   ]
  },
  {
   "cell_type": "code",
   "execution_count": 99,
   "id": "c8748891",
   "metadata": {},
   "outputs": [],
   "source": [
    "job_title_df[\"job_level_id\"]=job_level_id_column"
   ]
  },
  {
   "cell_type": "code",
   "execution_count": 100,
   "id": "bee062e1",
   "metadata": {},
   "outputs": [],
   "source": [
    "job_title_df[\"regime_id\"]=regime_id_column"
   ]
  },
  {
   "cell_type": "code",
   "execution_count": 101,
   "id": "a790e8c5",
   "metadata": {},
   "outputs": [],
   "source": [
    "job_title_df.to_csv(\"job_title.csv\", index = False)"
   ]
  },
  {
   "cell_type": "code",
   "execution_count": null,
   "id": "1ff7c6b8",
   "metadata": {},
   "outputs": [],
   "source": [
    "job_title_df[\"branch_id\"]=branch_id_column"
   ]
  },
  {
   "cell_type": "code",
   "execution_count": null,
   "id": "1588d41b",
   "metadata": {},
   "outputs": [],
   "source": [
    "# Export the job_title_df table to import on SQL\n",
    "job_title_df.to_csv(\"job_title.csv\", index = False)"
   ]
  },
  {
   "cell_type": "code",
   "execution_count": 102,
   "id": "928fe05d",
   "metadata": {},
   "outputs": [],
   "source": [
    "# Example: confirming the names and id's with the codes below:\n",
    "# df.iloc[1315]\n",
    "# job_title_df.iloc[1315]\n",
    "# company.iloc[1315]\n",
    "# country\n",
    "# experience\n",
    "# regime\n",
    "# df\n",
    "# data_branches\n",
    "# job_title_df"
   ]
  },
  {
   "cell_type": "code",
   "execution_count": 114,
   "id": "04e6df63",
   "metadata": {},
   "outputs": [],
   "source": []
  },
  {
   "cell_type": "code",
   "execution_count": 124,
   "id": "5d6266d1",
   "metadata": {},
   "outputs": [],
   "source": [
    "# WE EXPORTED CSV FILES FROM SQL AND THEN DID THE FOLLOWING CHARTS"
   ]
  },
  {
   "cell_type": "code",
   "execution_count": null,
   "id": "c8c99b8b",
   "metadata": {},
   "outputs": [],
   "source": [
    "import pandas as pd\n",
    "import numpy as np\n",
    "from matplotlib import pyplot as plt\n",
    "\n",
    "# % Analyst Job Offerings Required Skills\n",
    "df = pd.read_csv(\"analyst_skill_count.csv\")\n",
    "df = df.T\n",
    "df = df.reset_index()\n",
    "df[\"index\"]= df[\"index\"].apply(lambda x: x.replace(\" %\",\"\") if isinstance(x, str) else x)\n",
    "df = df.sort_values(by=[0], ascending=False)\n",
    "df\n",
    "\n",
    "plt.bar(df[\"index\"], df[0])\n",
    "plt.xticks(rotation=55, fontsize=7, fontweight=\"bold\")  # Rotate labels for readability\n",
    "plt.yticks(fontweight=\"bold\", fontsize=8)\n",
    "plt.ylabel(\"%\")\n",
    "plt.title(\"% Analyst Job Offerings Required Skills\", fontweight = \"bold\")\n",
    "plt.show()"
   ]
  },
  {
   "cell_type": "code",
   "execution_count": null,
   "id": "c7c68f3c",
   "metadata": {},
   "outputs": [],
   "source": [
    "# % Scientist Job Offerings Required Skills\n",
    "df = pd.read_csv(\"scientist_skill_count (1).csv\")\n",
    "df = df.T\n",
    "df = df.reset_index()\n",
    "df[\"index\"]= df[\"index\"].apply(lambda x: x.replace(\" %\",\"\") if isinstance(x, str) else x)\n",
    "df = df.sort_values(by=[0], ascending=False)\n",
    "df\n",
    "\n",
    "plt.bar(df[\"index\"], df[0])\n",
    "plt.xticks(rotation=55, fontsize=7, fontweight=\"bold\")  # Rotate labels for readability\n",
    "plt.yticks(fontweight=\"bold\", fontsize=8)\n",
    "plt.ylabel(\"%\")\n",
    "plt.title(\"% Scientist Job Offerings Required Skills\", fontweight = \"bold\")\n",
    "plt.show()"
   ]
  },
  {
   "cell_type": "code",
   "execution_count": null,
   "id": "913f190f",
   "metadata": {},
   "outputs": [],
   "source": [
    "# % Engineer Job Offerings Required Skills\n",
    "df = pd.read_csv(\"engineer_skill_count.csv\")\n",
    "df = df.T\n",
    "df = df.reset_index()\n",
    "df[\"index\"]= df[\"index\"].apply(lambda x: x.replace(\" %\",\"\") if isinstance(x, str) else x)\n",
    "df = df.sort_values(by=[0], ascending=False)\n",
    "df\n",
    "\n",
    "plt.bar(df[\"index\"], df[0])\n",
    "plt.xticks(rotation=55, fontsize=7, fontweight=\"bold\")  # Rotate labels for readability\n",
    "plt.yticks(fontweight=\"bold\", fontsize=8)\n",
    "plt.ylabel(\"%\")\n",
    "plt.title(\"% Engineer Job Offerings Required Skills\", fontweight = \"bold\")\n",
    "plt.show()"
   ]
  },
  {
   "cell_type": "code",
   "execution_count": null,
   "id": "a9c4fa42",
   "metadata": {},
   "outputs": [],
   "source": [
    "# Data Analyst Job Regime\n",
    "df = pd.read_csv(\"analys_job_regime (1).csv\")\n",
    "df.dtypes\n",
    "plt.pie(df[\"count\"], labels=my_labels, autopct='%1.0f%%')\n",
    "plt.title('Data Analyst Job Regime')\n",
    "my_labels = np.array(df[\"regime_name\"])\n",
    "my_labels\n",
    "\n",
    "df"
   ]
  },
  {
   "cell_type": "code",
   "execution_count": null,
   "id": "503ff7cf",
   "metadata": {},
   "outputs": [],
   "source": [
    "# Data Engineer Job Regime\n",
    "df = pd.read_csv(\"engineer_job_regime.csv\")\n",
    "df.dtypes\n",
    "plt.pie(df[\"count\"], labels=my_labels, autopct='%1.0f%%')\n",
    "plt.title('Data Engineer Job Regime')\n",
    "my_labels = np.array(df[\"regime_name\"])\n",
    "my_labels\n",
    "\n",
    "df"
   ]
  },
  {
   "cell_type": "code",
   "execution_count": null,
   "id": "78ca5d4e",
   "metadata": {},
   "outputs": [],
   "source": [
    "# Data Scientist Job Regime\n",
    "df = pd.read_csv(\"scientist_job_regime.csv\")\n",
    "df.dtypes\n",
    "plt.pie(df[\"count\"], labels=my_labels, autopct='%1.0f%%')\n",
    "plt.title('Data Scientist Job Regime')\n",
    "my_labels = np.array(df[\"regime_name\"])\n",
    "my_labels\n",
    "\n",
    "df"
   ]
  }
 ],
 "metadata": {
  "kernelspec": {
   "display_name": "Python 3 (ipykernel)",
   "language": "python",
   "name": "python3"
  },
  "language_info": {
   "codemirror_mode": {
    "name": "ipython",
    "version": 3
   },
   "file_extension": ".py",
   "mimetype": "text/x-python",
   "name": "python",
   "nbconvert_exporter": "python",
   "pygments_lexer": "ipython3",
   "version": "3.11.7"
  }
 },
 "nbformat": 4,
 "nbformat_minor": 5
}
